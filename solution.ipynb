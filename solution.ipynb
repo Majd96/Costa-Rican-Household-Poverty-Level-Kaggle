{
 "cells": [
  {
   "cell_type": "markdown",
   "metadata": {
    "_uuid": "7d515b9f8aab5b86a05e26ee071975a0705959c4"
   },
   "source": [
    "\n",
    "https://www.kaggle.com/c/costa-rican-household-poverty-prediction/submissions?sortBy=date&group=all&page=1"
   ]
  },
  {
   "cell_type": "code",
   "execution_count": 1,
   "metadata": {},
   "outputs": [],
   "source": [
    "import numpy as np # linear algebra\n",
    "import pandas as pd # data processing, CSV file I/O (e.g. pd.read_csv)\n",
    "import matplotlib.pyplot as plt\n",
    "import seaborn as sns\n",
    "from sklearn.ensemble import RandomForestRegressor"
   ]
  },
  {
   "cell_type": "code",
   "execution_count": 2,
   "metadata": {
    "_uuid": "5b2082155f902ef6bcfc836db2ec33c17b3ab528"
   },
   "outputs": [
    {
     "data": {
      "text/plain": [
       "(9557, 143)"
      ]
     },
     "execution_count": 2,
     "metadata": {},
     "output_type": "execute_result"
    }
   ],
   "source": [
    "# Read the train data\n",
    "dataset=pd.read_csv('train.csv')\n",
    "dataset.shape\n"
   ]
  },
  {
   "cell_type": "markdown",
   "metadata": {
    "_uuid": "a982390a15d523b9d358dcc5bf6f029e13e40d55"
   },
   "source": [
    "# Check the datatypes of the dataset\n",
    "\n",
    "\n"
   ]
  },
  {
   "cell_type": "code",
   "execution_count": 5,
   "metadata": {
    "_uuid": "25ac715160e0da22375be6c15c6397a5ac28646c"
   },
   "outputs": [
    {
     "data": {
      "text/html": [
       "<div>\n",
       "<style scoped>\n",
       "    .dataframe tbody tr th:only-of-type {\n",
       "        vertical-align: middle;\n",
       "    }\n",
       "\n",
       "    .dataframe tbody tr th {\n",
       "        vertical-align: top;\n",
       "    }\n",
       "\n",
       "    .dataframe thead th {\n",
       "        text-align: right;\n",
       "    }\n",
       "</style>\n",
       "<table border=\"1\" class=\"dataframe\">\n",
       "  <thead>\n",
       "    <tr style=\"text-align: right;\">\n",
       "      <th></th>\n",
       "      <th>Column Type</th>\n",
       "      <th>Count</th>\n",
       "    </tr>\n",
       "  </thead>\n",
       "  <tbody>\n",
       "    <tr>\n",
       "      <th>0</th>\n",
       "      <td>int64</td>\n",
       "      <td>130</td>\n",
       "    </tr>\n",
       "    <tr>\n",
       "      <th>1</th>\n",
       "      <td>float64</td>\n",
       "      <td>8</td>\n",
       "    </tr>\n",
       "    <tr>\n",
       "      <th>2</th>\n",
       "      <td>object</td>\n",
       "      <td>5</td>\n",
       "    </tr>\n",
       "  </tbody>\n",
       "</table>\n",
       "</div>"
      ],
      "text/plain": [
       "  Column Type  Count\n",
       "0       int64    130\n",
       "1     float64      8\n",
       "2      object      5"
      ]
     },
     "execution_count": 5,
     "metadata": {},
     "output_type": "execute_result"
    }
   ],
   "source": [
    "dtype = dataset.dtypes.reset_index()\n",
    "# reset_index() is a method to reset index of a Data Frame. reset_index() method sets a list of integer ranging from 0 to length of data as index.\n",
    "dtype.columns = [\"Count\", \"Column Type\"]\n",
    "''' A data type object describes how the bytes in the fixed-size block of memory corresponding to an array item should be interpreted.\n",
    "It describes the following aspects of the data:\n",
    "Type of the data (integer, float, Python object, etc.)\n",
    "Size of the data (how many bytes is in e.g. the integer)\n",
    "'''\n",
    "dtype.groupby(\"Column Type\").aggregate('count').reset_index()"
   ]
  },
  {
   "cell_type": "markdown",
   "metadata": {
    "_uuid": "f448ce0f0c104416478db6b32d9e82883eded6e3"
   },
   "source": [
    "## Check the label distribution "
   ]
  },
  {
   "cell_type": "code",
   "execution_count": 6,
   "metadata": {
    "_uuid": "f5c8a7cce25e3876fb3ff2e3c3572fd354f04da6"
   },
   "outputs": [
    {
     "data": {
      "text/plain": [
       "<matplotlib.axes._subplots.AxesSubplot at 0x1179b14e0>"
      ]
     },
     "execution_count": 6,
     "metadata": {},
     "output_type": "execute_result"
    },
    {
     "data": {
      "image/png": "[encoded data removed]",
      "text/plain": [
       "<matplotlib.figure.Figure at 0x1179b1438>"
      ]
     },
     "metadata": {},
     "output_type": "display_data"
    }
   ],
   "source": [
    "# Lets plot a bar plot to show the distribution of training labels\n",
    "sns.countplot(x=\"Target\",  data=dataset)\n"
   ]
  },
  {
   "cell_type": "markdown",
   "metadata": {
    "_uuid": "7bc257a2d684697365fe03d48093100abc5a8be0"
   },
   "source": [
    "## Addressing Wrong Labels"
   ]
  },
  {
   "cell_type": "code",
   "execution_count": 7,
   "metadata": {
    "_uuid": "f92e9cc7451351a068e327c23cda150d1e2f0099"
   },
   "outputs": [
    {
     "name": "stdout",
     "output_type": "stream",
     "text": [
      "85 of the householders have members with different wrong targets\n"
     ]
    }
   ],
   "source": [
    "#  The data contains individuals with the same household and have a different poverty level\n",
    "#  we are going to fix that\n",
    "\n",
    "\n",
    "# Households where targets are equla\n",
    "#  groupby() apply given function to group, return result as series\n",
    "all_dataset = dataset.groupby('idhogar')['Target'].apply(lambda x: x.nunique() == 1)\n",
    "\n",
    "#House Holds where targets are not eqaul\n",
    "not_equal_dataset=all_dataset[all_dataset==False]\n",
    "\n",
    "print('{} of the householders have members with different wrong targets'.format(len(not_equal_dataset)))\n"
   ]
  },
  {
   "cell_type": "markdown",
   "metadata": {
    "_uuid": "b9e136c8239c6811d21be6e7d4e7bce54345dfbc"
   },
   "source": [
    "### Fixing Worng labels"
   ]
  },
  {
   "cell_type": "code",
   "execution_count": 10,
   "metadata": {
    "_uuid": "3318fdc71cf51291d85a8f7223f2979d16ead9a0"
   },
   "outputs": [],
   "source": [
    "# Iterate through each household\n",
    "# here the house hold represnts the idgogar\n",
    "for household in not_equal_dataset.index:\n",
    "    \n",
    "    # Find the correct label (for the head of household)\n",
    "    # & takes the intersection od two sets\n",
    "    true_target = int(dataset[(dataset['idhogar'] == household) & (dataset['parentesco1'] == 1.0)]['Target'])\n",
    "    \n",
    "    # Set the correct label for all members in the household\n",
    "    dataset.loc[dataset['idhogar'] == household, 'Target'] = true_target"
   ]
  },
  {
   "cell_type": "code",
   "execution_count": 359,
   "metadata": {
    "_uuid": "c43df8428000a2b10d709ba93a0a531d37d6255b"
   },
   "outputs": [
    {
     "name": "stdout",
     "output_type": "stream",
     "text": [
      "0 of the householders have members with different wrong targets\n"
     ]
    }
   ],
   "source": [
    "# check now if there is wrong labels\n",
    "all_dataset = dataset.groupby('idhogar')['Target'].apply(lambda x: x.nunique() == 1)\n",
    "\n",
    "#House Holds where targets are not eqaul\n",
    "not_equal_dataset=all_dataset[all_dataset==False]\n",
    "\n",
    "print('{} of the householders have members with different wrong targets'.format(len(not_equal_dataset)))"
   ]
  },
  {
   "cell_type": "markdown",
   "metadata": {
    "_uuid": "477ab8cdbdea8eb79f0e10087d378c1e52990a4e"
   },
   "source": [
    "# Find the columns that have missing valus\n"
   ]
  },
  {
   "cell_type": "code",
   "execution_count": 360,
   "metadata": {
    "_uuid": "57e2872aa4ef3de8ac3708f6c44e2c86eb44c729"
   },
   "outputs": [
    {
     "data": {
      "text/plain": [
       "['v2a1', 'v18q1', 'rez_esc', 'meaneduc', 'SQBmeaned']"
      ]
     },
     "execution_count": 360,
     "metadata": {},
     "output_type": "execute_result"
    }
   ],
   "source": [
    "list(dataset.columns[dataset.isnull().sum() != 0])"
   ]
  },
  {
   "cell_type": "code",
   "execution_count": 361,
   "metadata": {
    "_uuid": "c0e80dcf904d47d7fe28ad1648a27d3e866df7da"
   },
   "outputs": [
    {
     "name": "stdout",
     "output_type": "stream",
     "text": [
      "    column name  missing values count\n",
      "1          v2a1                  6860\n",
      "8         v18q1                  7342\n",
      "21      rez_esc                  7928\n",
      "103    meaneduc                     5\n",
      "140   SQBmeaned                     5\n"
     ]
    }
   ],
   "source": [
    "def print_missing_values(dataset):\n",
    "    missing_datafram=dataset.isna().sum(axis=0).reset_index()\n",
    "    missing_datafram.columns = ['column name', 'missing values count']\n",
    "    missing_datafram = missing_datafram[missing_datafram['missing values count']>0]\n",
    "    print(missing_datafram)\n",
    "    \n",
    "print_missing_values(dataset)\n"
   ]
  },
  {
   "cell_type": "markdown",
   "metadata": {
    "_uuid": "b3786a1cf3dd92a850c430e98fb083a4fecef940"
   },
   "source": [
    "# Handling missing values"
   ]
  },
  {
   "cell_type": "markdown",
   "metadata": {
    "_uuid": "f4f62bf7e3d08ed6929471f6388f586e93eba47d"
   },
   "source": [
    "####  Fisrt: Handling the missing valuse in meaneduc,average years of education for adults (18+)\n",
    "####  we are going to use the the mean\n"
   ]
  },
  {
   "cell_type": "code",
   "execution_count": 362,
   "metadata": {
    "_uuid": "cba063e724f692fd4a485fe289a835eebf60ebd5"
   },
   "outputs": [],
   "source": [
    "from sklearn.preprocessing import Imputer\n",
    "imputer=Imputer(missing_values='NaN',strategy='mean',axis=0)"
   ]
  },
  {
   "cell_type": "code",
   "execution_count": 363,
   "metadata": {
    "_uuid": "244e4ca11e36844fba56d08212341159e043eafd"
   },
   "outputs": [
    {
     "name": "stdout",
     "output_type": "stream",
     "text": [
      "    column name  missing values count\n",
      "1          v2a1                  6860\n",
      "8         v18q1                  7342\n",
      "21      rez_esc                  7928\n",
      "140   SQBmeaned                     5\n"
     ]
    }
   ],
   "source": [
    "dataset.iloc[:,103:104]=imputer.fit_transform(dataset.iloc[:,103:104])\n",
    "print_missing_values(dataset)"
   ]
  },
  {
   "cell_type": "markdown",
   "metadata": {
    "_uuid": "3941599f3041c44feea8785621a76dada254bb37"
   },
   "source": [
    "####  second: Handling the missing valuse in SQBmeaned, square of the mean years of education of adults (>=18) in the household\n",
    "\n",
    "####  we are going to use the the mean\n"
   ]
  },
  {
   "cell_type": "code",
   "execution_count": 364,
   "metadata": {
    "_uuid": "888930c17c09c0bb736165ca1a128d3ca949a074"
   },
   "outputs": [
    {
     "name": "stdout",
     "output_type": "stream",
     "text": [
      "   column name  missing values count\n",
      "1         v2a1                  6860\n",
      "8        v18q1                  7342\n",
      "21     rez_esc                  7928\n"
     ]
    }
   ],
   "source": [
    "dataset.iloc[:,140:141]=imputer.fit_transform(dataset.iloc[:,140:141])\n",
    "print_missing_values(dataset)"
   ]
  },
  {
   "cell_type": "markdown",
   "metadata": {
    "_uuid": "a77339f6b2cdc8147e4214d2e1267f236a3c576b"
   },
   "source": [
    "####  Third: Handling the missing valuse in v2al'Monthly rent payment'\n",
    "\n",
    "#### Here the v2val means the mounthly rent payment, so they don't have a house, so we can replace the null value with \n",
    "#### zero for those who have a house( means 'tipovivi1'=1)\n"
   ]
  },
  {
   "cell_type": "code",
   "execution_count": 365,
   "metadata": {
    "_uuid": "061157b8aae00b67fc98f2284fb292556a7d964f"
   },
   "outputs": [
    {
     "data": {
      "text/plain": [
       "(5911, 143)"
      ]
     },
     "execution_count": 365,
     "metadata": {},
     "output_type": "execute_result"
    }
   ],
   "source": [
    "dataset[(dataset['v2a1'].isnull()==True) & (dataset['tipovivi1']==1)].shape\n"
   ]
  },
  {
   "cell_type": "code",
   "execution_count": 366,
   "metadata": {
    "_uuid": "9bd8ff6cd589727e19e9e9ad11100df2747d19b3"
   },
   "outputs": [
    {
     "data": {
      "text/plain": [
       "949"
      ]
     },
     "execution_count": 366,
     "metadata": {},
     "output_type": "execute_result"
    }
   ],
   "source": [
    "# here we can see that 5911 of missing values for those who don't have a house\n",
    "# so we can replace thier v2al with zero since they don't pay fees for renting a house\n",
    "dataset.loc[(pd.isnull(dataset['v2a1']) & dataset['tipovivi1'] == 1), 'v2a1'] = 0\n",
    "dataset.isnull().sum()['v2a1']\n"
   ]
  },
  {
   "cell_type": "code",
   "execution_count": 367,
   "metadata": {
    "_uuid": "512044fc68feed8c5f893875fcc174b51106e337"
   },
   "outputs": [
    {
     "name": "stdout",
     "output_type": "stream",
     "text": [
      "There are 411 missing values in region5616, with ratio0.0732. \n",
      "\n",
      "There are 78 missing values in region886, with ratio0.088. \n",
      "\n",
      "There are 117 missing values in region596, with ratio0.1963. \n",
      "\n",
      "There are 110 missing values in region791, with ratio0.1391. \n",
      "\n",
      "There are 147 missing values in region897, with ratio0.1639. \n",
      "\n",
      "There are 86 missing values in region771, with ratio0.1115. \n",
      "\n"
     ]
    }
   ],
   "source": [
    "# Check wether there is a relation between between the remaning missing values with region\n",
    "\n",
    "regions = ['lugar1','lugar2','lugar3','lugar4','lugar5','lugar6']\n",
    "\n",
    "for reg in regions:\n",
    "    numberofMissing = dataset[(dataset['v2a1'].isnull()==True) & (dataset[reg]==1)].shape[0]\n",
    "    numberOfRegoin = dataset[dataset[reg]==1].shape[0]\n",
    "    ratio = numberofMissing/numberOfRegoin\n",
    "    print(\"There are {} missing values in region{}, with ratio{}. \\n\"\\\n",
    "          .format(numberofMissing, numberOfRegoin,round(ratio,4)))"
   ]
  },
  {
   "cell_type": "code",
   "execution_count": 368,
   "metadata": {
    "_uuid": "5b4439fa189b6479c355b8d456098b755a764909"
   },
   "outputs": [],
   "source": [
    "# We can see that there is no relation between the number of missing value and the region\n",
    "# After refering to Kaggle disscussions, it seems that 'v2a1' will be a null value when households do not rent or households are not paying loans\n",
    "#we will replace the rest of the null values with 0 as well.\n",
    "dataset['v2a1'].fillna(0, inplace = True)\n"
   ]
  },
  {
   "cell_type": "code",
   "execution_count": 369,
   "metadata": {
    "_uuid": "baa5ed29c0109407c8d02e0fe7ff17aad88dd9a2"
   },
   "outputs": [
    {
     "data": {
      "text/plain": [
       "0"
      ]
     },
     "execution_count": 369,
     "metadata": {},
     "output_type": "execute_result"
    }
   ],
   "source": [
    "dataset.isnull().sum()['v2a1']\n"
   ]
  },
  {
   "cell_type": "markdown",
   "metadata": {
    "_uuid": "d03d24191e882653f37e117f038b9be0a04b5c55"
   },
   "source": [
    "####  Fourth: Handling the missing valuse in v18q1'number of tablets household owns'\n",
    "\n",
    "#### Lets chcek if there is a relation v18q1'number of tablets household owns' and vl8q'owns a tablet'\n",
    "\n",
    "\n"
   ]
  },
  {
   "cell_type": "code",
   "execution_count": 370,
   "metadata": {
    "_uuid": "ff076a66b58ad61eddd44a3724ebb80be7cce376"
   },
   "outputs": [
    {
     "data": {
      "text/plain": [
       "True"
      ]
     },
     "execution_count": 370,
     "metadata": {},
     "output_type": "execute_result"
    }
   ],
   "source": [
    "dataset[(dataset['v18q1'].isnull()==True) & (dataset['v18q']==0)].shape[0]==dataset.isnull().sum()['v18q1']\n"
   ]
  },
  {
   "cell_type": "code",
   "execution_count": 371,
   "metadata": {
    "_uuid": "70c4451a7e6a9352c2e7fe369a26ad64582d661b"
   },
   "outputs": [],
   "source": [
    "# we can see that 'V18q1' has a missing value for those who don't own a tablet so we can repalce the missing value by zero\n",
    "dataset['v18q1'].fillna(0, inplace = True)\n"
   ]
  },
  {
   "cell_type": "code",
   "execution_count": 372,
   "metadata": {
    "_uuid": "ca3352fe190914c75cd16a43f457e5c6e005dc39"
   },
   "outputs": [
    {
     "name": "stdout",
     "output_type": "stream",
     "text": [
      "   column name  missing values count\n",
      "21     rez_esc                  7928\n"
     ]
    }
   ],
   "source": [
    "print_missing_values(dataset)"
   ]
  },
  {
   "cell_type": "markdown",
   "metadata": {
    "_uuid": "ee6677709c55945f07a820aecca99af5d4860168"
   },
   "source": [
    "####  Fifth: Handling the missing valuse in rez_esc Years behind school'\n",
    "\n",
    "#### Now i will try to drop the 'rez-esc' since i dont know how to handle it\n",
    "\n",
    "\n"
   ]
  },
  {
   "cell_type": "code",
   "execution_count": 373,
   "metadata": {
    "_uuid": "05ef6d6a83b3466c6ce1b3302d3c87210ba7928e"
   },
   "outputs": [],
   "source": [
    "dataset = dataset.drop('rez_esc', axis = 1)\n"
   ]
  },
  {
   "cell_type": "code",
   "execution_count": 374,
   "metadata": {
    "_uuid": "8c6820309dcbe1032c2925917c8ff46744d0351e"
   },
   "outputs": [
    {
     "name": "stdout",
     "output_type": "stream",
     "text": [
      "Empty DataFrame\n",
      "Columns: [column name, missing values count]\n",
      "Index: []\n"
     ]
    }
   ],
   "source": [
    "# No missing values\n",
    "print_missing_values(dataset)"
   ]
  },
  {
   "cell_type": "markdown",
   "metadata": {
    "_uuid": "e3c821bc6e9157dea7f4f014c65395409d46b921"
   },
   "source": [
    "## Check if there any columns have constant values\n"
   ]
  },
  {
   "cell_type": "code",
   "execution_count": 12,
   "metadata": {
    "_uuid": "2a58dbf670ebee887dc6eaaf9007349472411438"
   },
   "outputs": [
    {
     "data": {
      "text/html": [
       "<div>\n",
       "<style scoped>\n",
       "    .dataframe tbody tr th:only-of-type {\n",
       "        vertical-align: middle;\n",
       "    }\n",
       "\n",
       "    .dataframe tbody tr th {\n",
       "        vertical-align: top;\n",
       "    }\n",
       "\n",
       "    .dataframe thead th {\n",
       "        text-align: right;\n",
       "    }\n",
       "</style>\n",
       "<table border=\"1\" class=\"dataframe\">\n",
       "  <thead>\n",
       "    <tr style=\"text-align: right;\">\n",
       "      <th></th>\n",
       "      <th>column name</th>\n",
       "      <th>unique count</th>\n",
       "    </tr>\n",
       "  </thead>\n",
       "  <tbody>\n",
       "    <tr>\n",
       "      <th>62</th>\n",
       "      <td>elimbasu5</td>\n",
       "      <td>1</td>\n",
       "    </tr>\n",
       "  </tbody>\n",
       "</table>\n",
       "</div>"
      ],
      "text/plain": [
       "   column name  unique count\n",
       "62   elimbasu5             1"
      ]
     },
     "execution_count": 12,
     "metadata": {},
     "output_type": "execute_result"
    }
   ],
   "source": [
    "# nunique() ==> Return Series with number of distinct observations over requested axis.\n",
    "# Constant features can lead to errors in some models and obviously provide no information in the training set that can be learned from.\n",
    "\n",
    "dataset1 = dataset.nunique().reset_index()\n",
    "dataset1.columns = [\"column name\", \"unique count\"]\n",
    "dataset1=dataset1[dataset1[\"unique count\"]==1]\n",
    "dataset1\n"
   ]
  },
  {
   "cell_type": "code",
   "execution_count": 376,
   "metadata": {
    "_uuid": "2655d1ef57f5a117a5e73efd030db3d70705c38b"
   },
   "outputs": [],
   "source": [
    "# drop column elimbasu5 since it has a constant value\n",
    "dataset= dataset.drop(['elimbasu5'],axis=1)\n"
   ]
  },
  {
   "cell_type": "markdown",
   "metadata": {
    "_uuid": "ec3d3e8c24c65b3076e067573c4a61b7a8080200"
   },
   "source": [
    "## To check which columns have an object type\n"
   ]
  },
  {
   "cell_type": "code",
   "execution_count": 377,
   "metadata": {
    "_uuid": "8ccd75cfb5f2d3480f0aeafab8daeb21d71fc2b0"
   },
   "outputs": [
    {
     "data": {
      "text/plain": [
       "{dtype('int64'): Index(['hacdor', 'rooms', 'hacapo', 'v14a', 'refrig', 'v18q', 'r4h1', 'r4h2',\n",
       "        'r4h3', 'r4m1',\n",
       "        ...\n",
       "        'area1', 'area2', 'age', 'SQBescolari', 'SQBage', 'SQBhogar_total',\n",
       "        'SQBedjefe', 'SQBhogar_nin', 'agesq', 'Target'],\n",
       "       dtype='object', length=129),\n",
       " dtype('float64'): Index(['v2a1', 'v18q1', 'meaneduc', 'overcrowding', 'SQBovercrowding',\n",
       "        'SQBdependency', 'SQBmeaned'],\n",
       "       dtype='object'),\n",
       " dtype('O'): Index(['Id', 'idhogar', 'dependency', 'edjefe', 'edjefa'], dtype='object')}"
      ]
     },
     "execution_count": 377,
     "metadata": {},
     "output_type": "execute_result"
    }
   ],
   "source": [
    "dataset.columns.to_series().groupby(dataset.dtypes).groups"
   ]
  },
  {
   "cell_type": "code",
   "execution_count": 378,
   "metadata": {
    "_uuid": "5e38e57ed534e92eca8807e2c0c13dfffa02ed1f"
   },
   "outputs": [
    {
     "data": {
      "text/html": [
       "<div>\n",
       "<style scoped>\n",
       "    .dataframe tbody tr th:only-of-type {\n",
       "        vertical-align: middle;\n",
       "    }\n",
       "\n",
       "    .dataframe tbody tr th {\n",
       "        vertical-align: top;\n",
       "    }\n",
       "\n",
       "    .dataframe thead th {\n",
       "        text-align: right;\n",
       "    }\n",
       "</style>\n",
       "<table border=\"1\" class=\"dataframe\">\n",
       "  <thead>\n",
       "    <tr style=\"text-align: right;\">\n",
       "      <th></th>\n",
       "      <th>Id</th>\n",
       "      <th>idhogar</th>\n",
       "      <th>dependency</th>\n",
       "      <th>edjefe</th>\n",
       "      <th>edjefa</th>\n",
       "    </tr>\n",
       "  </thead>\n",
       "  <tbody>\n",
       "    <tr>\n",
       "      <th>0</th>\n",
       "      <td>ID_279628684</td>\n",
       "      <td>21eb7fcc1</td>\n",
       "      <td>no</td>\n",
       "      <td>10</td>\n",
       "      <td>no</td>\n",
       "    </tr>\n",
       "    <tr>\n",
       "      <th>1</th>\n",
       "      <td>ID_f29eb3ddd</td>\n",
       "      <td>0e5d7a658</td>\n",
       "      <td>8</td>\n",
       "      <td>12</td>\n",
       "      <td>no</td>\n",
       "    </tr>\n",
       "    <tr>\n",
       "      <th>2</th>\n",
       "      <td>ID_68de51c94</td>\n",
       "      <td>2c7317ea8</td>\n",
       "      <td>8</td>\n",
       "      <td>no</td>\n",
       "      <td>11</td>\n",
       "    </tr>\n",
       "    <tr>\n",
       "      <th>3</th>\n",
       "      <td>ID_d671db89c</td>\n",
       "      <td>2b58d945f</td>\n",
       "      <td>yes</td>\n",
       "      <td>11</td>\n",
       "      <td>no</td>\n",
       "    </tr>\n",
       "    <tr>\n",
       "      <th>4</th>\n",
       "      <td>ID_d56d6f5f5</td>\n",
       "      <td>2b58d945f</td>\n",
       "      <td>yes</td>\n",
       "      <td>11</td>\n",
       "      <td>no</td>\n",
       "    </tr>\n",
       "  </tbody>\n",
       "</table>\n",
       "</div>"
      ],
      "text/plain": [
       "             Id    idhogar dependency edjefe edjefa\n",
       "0  ID_279628684  21eb7fcc1         no     10     no\n",
       "1  ID_f29eb3ddd  0e5d7a658          8     12     no\n",
       "2  ID_68de51c94  2c7317ea8          8     no     11\n",
       "3  ID_d671db89c  2b58d945f        yes     11     no\n",
       "4  ID_d56d6f5f5  2b58d945f        yes     11     no"
      ]
     },
     "execution_count": 378,
     "metadata": {},
     "output_type": "execute_result"
    }
   ],
   "source": [
    "# ['Id', 'idhogar', 'dependency', 'edjefe', 'edjefa'] has object type\n",
    "dataset[['Id', 'idhogar', 'dependency', 'edjefe', 'edjefa']].head()"
   ]
  },
  {
   "cell_type": "code",
   "execution_count": 379,
   "metadata": {
    "_uuid": "c04d3d430c26791f7abd08e8201be78b2bbff62d"
   },
   "outputs": [],
   "source": [
    "# we are going to replace yes and no with o and 1\n",
    "dataset=dataset.replace('no','0')\n",
    "dataset=dataset.replace('yes','1')"
   ]
  },
  {
   "cell_type": "markdown",
   "metadata": {
    "_uuid": "60d02729294f177bf77a2a193539336172a75523"
   },
   "source": [
    "## Drop the idhogar"
   ]
  },
  {
   "cell_type": "code",
   "execution_count": 380,
   "metadata": {
    "_uuid": "b416beec27d854e870cba5e11fd3e1a02a7b0e4e"
   },
   "outputs": [],
   "source": [
    "# i have tried to encode but it gave en error when i applyed the RandomForest\n",
    "dataset.drop(['idhogar'], axis = 1, inplace = True)\n"
   ]
  },
  {
   "cell_type": "markdown",
   "metadata": {
    "_uuid": "94129b7c10109380ef4922648408d09ca81e3299"
   },
   "source": [
    "## Splitting data into dependent and independent variable\n"
   ]
  },
  {
   "cell_type": "code",
   "execution_count": 381,
   "metadata": {
    "_uuid": "fcb5a8265b8e049f682286fe8a8fe8396e4886cd"
   },
   "outputs": [],
   "source": [
    "x=dataset.iloc[:,1:-1]"
   ]
  },
  {
   "cell_type": "code",
   "execution_count": 382,
   "metadata": {
    "_uuid": "903f18f95b1c7d11344cd5b6e347e82457d14847"
   },
   "outputs": [
    {
     "data": {
      "text/html": [
       "<div>\n",
       "<style scoped>\n",
       "    .dataframe tbody tr th:only-of-type {\n",
       "        vertical-align: middle;\n",
       "    }\n",
       "\n",
       "    .dataframe tbody tr th {\n",
       "        vertical-align: top;\n",
       "    }\n",
       "\n",
       "    .dataframe thead th {\n",
       "        text-align: right;\n",
       "    }\n",
       "</style>\n",
       "<table border=\"1\" class=\"dataframe\">\n",
       "  <thead>\n",
       "    <tr style=\"text-align: right;\">\n",
       "      <th></th>\n",
       "      <th>v2a1</th>\n",
       "      <th>hacdor</th>\n",
       "      <th>rooms</th>\n",
       "      <th>hacapo</th>\n",
       "      <th>v14a</th>\n",
       "      <th>refrig</th>\n",
       "      <th>v18q</th>\n",
       "      <th>v18q1</th>\n",
       "      <th>r4h1</th>\n",
       "      <th>r4h2</th>\n",
       "      <th>...</th>\n",
       "      <th>age</th>\n",
       "      <th>SQBescolari</th>\n",
       "      <th>SQBage</th>\n",
       "      <th>SQBhogar_total</th>\n",
       "      <th>SQBedjefe</th>\n",
       "      <th>SQBhogar_nin</th>\n",
       "      <th>SQBovercrowding</th>\n",
       "      <th>SQBdependency</th>\n",
       "      <th>SQBmeaned</th>\n",
       "      <th>agesq</th>\n",
       "    </tr>\n",
       "  </thead>\n",
       "  <tbody>\n",
       "    <tr>\n",
       "      <th>0</th>\n",
       "      <td>190000.0</td>\n",
       "      <td>0</td>\n",
       "      <td>3</td>\n",
       "      <td>0</td>\n",
       "      <td>1</td>\n",
       "      <td>1</td>\n",
       "      <td>0</td>\n",
       "      <td>0.0</td>\n",
       "      <td>0</td>\n",
       "      <td>1</td>\n",
       "      <td>...</td>\n",
       "      <td>43</td>\n",
       "      <td>100</td>\n",
       "      <td>1849</td>\n",
       "      <td>1</td>\n",
       "      <td>100</td>\n",
       "      <td>0</td>\n",
       "      <td>1.000000</td>\n",
       "      <td>0.0</td>\n",
       "      <td>100.0</td>\n",
       "      <td>1849</td>\n",
       "    </tr>\n",
       "    <tr>\n",
       "      <th>1</th>\n",
       "      <td>135000.0</td>\n",
       "      <td>0</td>\n",
       "      <td>4</td>\n",
       "      <td>0</td>\n",
       "      <td>1</td>\n",
       "      <td>1</td>\n",
       "      <td>1</td>\n",
       "      <td>1.0</td>\n",
       "      <td>0</td>\n",
       "      <td>1</td>\n",
       "      <td>...</td>\n",
       "      <td>67</td>\n",
       "      <td>144</td>\n",
       "      <td>4489</td>\n",
       "      <td>1</td>\n",
       "      <td>144</td>\n",
       "      <td>0</td>\n",
       "      <td>1.000000</td>\n",
       "      <td>64.0</td>\n",
       "      <td>144.0</td>\n",
       "      <td>4489</td>\n",
       "    </tr>\n",
       "    <tr>\n",
       "      <th>2</th>\n",
       "      <td>0.0</td>\n",
       "      <td>0</td>\n",
       "      <td>8</td>\n",
       "      <td>0</td>\n",
       "      <td>1</td>\n",
       "      <td>1</td>\n",
       "      <td>0</td>\n",
       "      <td>0.0</td>\n",
       "      <td>0</td>\n",
       "      <td>0</td>\n",
       "      <td>...</td>\n",
       "      <td>92</td>\n",
       "      <td>121</td>\n",
       "      <td>8464</td>\n",
       "      <td>1</td>\n",
       "      <td>0</td>\n",
       "      <td>0</td>\n",
       "      <td>0.250000</td>\n",
       "      <td>64.0</td>\n",
       "      <td>121.0</td>\n",
       "      <td>8464</td>\n",
       "    </tr>\n",
       "    <tr>\n",
       "      <th>3</th>\n",
       "      <td>180000.0</td>\n",
       "      <td>0</td>\n",
       "      <td>5</td>\n",
       "      <td>0</td>\n",
       "      <td>1</td>\n",
       "      <td>1</td>\n",
       "      <td>1</td>\n",
       "      <td>1.0</td>\n",
       "      <td>0</td>\n",
       "      <td>2</td>\n",
       "      <td>...</td>\n",
       "      <td>17</td>\n",
       "      <td>81</td>\n",
       "      <td>289</td>\n",
       "      <td>16</td>\n",
       "      <td>121</td>\n",
       "      <td>4</td>\n",
       "      <td>1.777778</td>\n",
       "      <td>1.0</td>\n",
       "      <td>121.0</td>\n",
       "      <td>289</td>\n",
       "    </tr>\n",
       "    <tr>\n",
       "      <th>4</th>\n",
       "      <td>180000.0</td>\n",
       "      <td>0</td>\n",
       "      <td>5</td>\n",
       "      <td>0</td>\n",
       "      <td>1</td>\n",
       "      <td>1</td>\n",
       "      <td>1</td>\n",
       "      <td>1.0</td>\n",
       "      <td>0</td>\n",
       "      <td>2</td>\n",
       "      <td>...</td>\n",
       "      <td>37</td>\n",
       "      <td>121</td>\n",
       "      <td>1369</td>\n",
       "      <td>16</td>\n",
       "      <td>121</td>\n",
       "      <td>4</td>\n",
       "      <td>1.777778</td>\n",
       "      <td>1.0</td>\n",
       "      <td>121.0</td>\n",
       "      <td>1369</td>\n",
       "    </tr>\n",
       "  </tbody>\n",
       "</table>\n",
       "<p>5 rows × 138 columns</p>\n",
       "</div>"
      ],
      "text/plain": [
       "       v2a1  hacdor  rooms  hacapo  v14a  refrig  v18q  v18q1  r4h1  r4h2  \\\n",
       "0  190000.0       0      3       0     1       1     0    0.0     0     1   \n",
       "1  135000.0       0      4       0     1       1     1    1.0     0     1   \n",
       "2       0.0       0      8       0     1       1     0    0.0     0     0   \n",
       "3  180000.0       0      5       0     1       1     1    1.0     0     2   \n",
       "4  180000.0       0      5       0     1       1     1    1.0     0     2   \n",
       "\n",
       "   ...    age  SQBescolari  SQBage  SQBhogar_total  SQBedjefe  SQBhogar_nin  \\\n",
       "0  ...     43          100    1849               1        100             0   \n",
       "1  ...     67          144    4489               1        144             0   \n",
       "2  ...     92          121    8464               1          0             0   \n",
       "3  ...     17           81     289              16        121             4   \n",
       "4  ...     37          121    1369              16        121             4   \n",
       "\n",
       "   SQBovercrowding  SQBdependency  SQBmeaned  agesq  \n",
       "0         1.000000            0.0      100.0   1849  \n",
       "1         1.000000           64.0      144.0   4489  \n",
       "2         0.250000           64.0      121.0   8464  \n",
       "3         1.777778            1.0      121.0    289  \n",
       "4         1.777778            1.0      121.0   1369  \n",
       "\n",
       "[5 rows x 138 columns]"
      ]
     },
     "execution_count": 382,
     "metadata": {},
     "output_type": "execute_result"
    }
   ],
   "source": [
    "x.head()"
   ]
  },
  {
   "cell_type": "code",
   "execution_count": 383,
   "metadata": {
    "_uuid": "2bff217b1a622f5bbce86f09473ce8394c3efb3a"
   },
   "outputs": [],
   "source": [
    "y=dataset.iloc[:,-1]"
   ]
  },
  {
   "cell_type": "markdown",
   "metadata": {},
   "source": [
    "### An attempt to handle the Impalanced data using Use Tree-Based Algorithms"
   ]
  },
  {
   "cell_type": "code",
   "execution_count": 384,
   "metadata": {
    "_uuid": "07293aa30d50aa1a48d8c7bb73c2ff79477fb247"
   },
   "outputs": [],
   "source": [
    "#  ## Use Tree-Based Algorithms to handle the impalanced data\n",
    "# from sklearn.ensemble import RandomForestClassifier\n",
    "# from sklearn.metrics import accuracy_score\n",
    "\n",
    "\n",
    "\n",
    "# # Train model\n",
    "# clf_4 = RandomForestClassifier()\n",
    "# clf_4.fit(x, y)\n",
    " \n",
    "# # Predict on training set\n",
    "# pred_y_4 = clf_4.predict(x)\n",
    " \n",
    "# # Is our model still predicting just one class?\n",
    "# print( np.unique( pred_y_4 ) )\n",
    "# # [0 1]\n",
    " \n",
    "# # How's our accuracy?\n",
    "# print( accuracy_score(y, pred_y_4) )\n",
    "# # 0.9744\n",
    "\n",
    "\n",
    "\n",
    " "
   ]
  },
  {
   "cell_type": "markdown",
   "metadata": {
    "_uuid": "2dcb738ec7f593e33b66cb836a3cd016b0ad8873"
   },
   "source": [
    "## Preprocess test data\n"
   ]
  },
  {
   "cell_type": "code",
   "execution_count": 385,
   "metadata": {
    "_uuid": "93a4e022179a390dba32bd25c6323ec43173e4ee"
   },
   "outputs": [],
   "source": [
    "test_df=pd.read_csv('test.csv')\n",
    "org_test=test_df\n",
    "\n"
   ]
  },
  {
   "cell_type": "code",
   "execution_count": 386,
   "metadata": {
    "_uuid": "0d4b2e4d04867fd12a6d178cc0280b7a368b8a15"
   },
   "outputs": [
    {
     "data": {
      "text/html": [
       "<div>\n",
       "<style scoped>\n",
       "    .dataframe tbody tr th:only-of-type {\n",
       "        vertical-align: middle;\n",
       "    }\n",
       "\n",
       "    .dataframe tbody tr th {\n",
       "        vertical-align: top;\n",
       "    }\n",
       "\n",
       "    .dataframe thead th {\n",
       "        text-align: right;\n",
       "    }\n",
       "</style>\n",
       "<table border=\"1\" class=\"dataframe\">\n",
       "  <thead>\n",
       "    <tr style=\"text-align: right;\">\n",
       "      <th></th>\n",
       "      <th>Id</th>\n",
       "      <th>v2a1</th>\n",
       "      <th>hacdor</th>\n",
       "      <th>rooms</th>\n",
       "      <th>hacapo</th>\n",
       "      <th>v14a</th>\n",
       "      <th>refrig</th>\n",
       "      <th>v18q</th>\n",
       "      <th>v18q1</th>\n",
       "      <th>r4h1</th>\n",
       "      <th>...</th>\n",
       "      <th>age</th>\n",
       "      <th>SQBescolari</th>\n",
       "      <th>SQBage</th>\n",
       "      <th>SQBhogar_total</th>\n",
       "      <th>SQBedjefe</th>\n",
       "      <th>SQBhogar_nin</th>\n",
       "      <th>SQBovercrowding</th>\n",
       "      <th>SQBdependency</th>\n",
       "      <th>SQBmeaned</th>\n",
       "      <th>agesq</th>\n",
       "    </tr>\n",
       "  </thead>\n",
       "  <tbody>\n",
       "    <tr>\n",
       "      <th>0</th>\n",
       "      <td>ID_2f6873615</td>\n",
       "      <td>NaN</td>\n",
       "      <td>0</td>\n",
       "      <td>5</td>\n",
       "      <td>0</td>\n",
       "      <td>1</td>\n",
       "      <td>1</td>\n",
       "      <td>0</td>\n",
       "      <td>NaN</td>\n",
       "      <td>1</td>\n",
       "      <td>...</td>\n",
       "      <td>4</td>\n",
       "      <td>0</td>\n",
       "      <td>16</td>\n",
       "      <td>9</td>\n",
       "      <td>0</td>\n",
       "      <td>1</td>\n",
       "      <td>2.25</td>\n",
       "      <td>0.25</td>\n",
       "      <td>272.25</td>\n",
       "      <td>16</td>\n",
       "    </tr>\n",
       "    <tr>\n",
       "      <th>1</th>\n",
       "      <td>ID_1c78846d2</td>\n",
       "      <td>NaN</td>\n",
       "      <td>0</td>\n",
       "      <td>5</td>\n",
       "      <td>0</td>\n",
       "      <td>1</td>\n",
       "      <td>1</td>\n",
       "      <td>0</td>\n",
       "      <td>NaN</td>\n",
       "      <td>1</td>\n",
       "      <td>...</td>\n",
       "      <td>41</td>\n",
       "      <td>256</td>\n",
       "      <td>1681</td>\n",
       "      <td>9</td>\n",
       "      <td>0</td>\n",
       "      <td>1</td>\n",
       "      <td>2.25</td>\n",
       "      <td>0.25</td>\n",
       "      <td>272.25</td>\n",
       "      <td>1681</td>\n",
       "    </tr>\n",
       "    <tr>\n",
       "      <th>2</th>\n",
       "      <td>ID_e5442cf6a</td>\n",
       "      <td>NaN</td>\n",
       "      <td>0</td>\n",
       "      <td>5</td>\n",
       "      <td>0</td>\n",
       "      <td>1</td>\n",
       "      <td>1</td>\n",
       "      <td>0</td>\n",
       "      <td>NaN</td>\n",
       "      <td>1</td>\n",
       "      <td>...</td>\n",
       "      <td>41</td>\n",
       "      <td>289</td>\n",
       "      <td>1681</td>\n",
       "      <td>9</td>\n",
       "      <td>0</td>\n",
       "      <td>1</td>\n",
       "      <td>2.25</td>\n",
       "      <td>0.25</td>\n",
       "      <td>272.25</td>\n",
       "      <td>1681</td>\n",
       "    </tr>\n",
       "    <tr>\n",
       "      <th>3</th>\n",
       "      <td>ID_a8db26a79</td>\n",
       "      <td>NaN</td>\n",
       "      <td>0</td>\n",
       "      <td>14</td>\n",
       "      <td>0</td>\n",
       "      <td>1</td>\n",
       "      <td>1</td>\n",
       "      <td>1</td>\n",
       "      <td>1.0</td>\n",
       "      <td>0</td>\n",
       "      <td>...</td>\n",
       "      <td>59</td>\n",
       "      <td>256</td>\n",
       "      <td>3481</td>\n",
       "      <td>1</td>\n",
       "      <td>256</td>\n",
       "      <td>0</td>\n",
       "      <td>1.00</td>\n",
       "      <td>0.00</td>\n",
       "      <td>256.00</td>\n",
       "      <td>3481</td>\n",
       "    </tr>\n",
       "    <tr>\n",
       "      <th>4</th>\n",
       "      <td>ID_a62966799</td>\n",
       "      <td>175000.0</td>\n",
       "      <td>0</td>\n",
       "      <td>4</td>\n",
       "      <td>0</td>\n",
       "      <td>1</td>\n",
       "      <td>1</td>\n",
       "      <td>1</td>\n",
       "      <td>1.0</td>\n",
       "      <td>0</td>\n",
       "      <td>...</td>\n",
       "      <td>18</td>\n",
       "      <td>121</td>\n",
       "      <td>324</td>\n",
       "      <td>1</td>\n",
       "      <td>0</td>\n",
       "      <td>1</td>\n",
       "      <td>0.25</td>\n",
       "      <td>64.00</td>\n",
       "      <td>NaN</td>\n",
       "      <td>324</td>\n",
       "    </tr>\n",
       "  </tbody>\n",
       "</table>\n",
       "<p>5 rows × 142 columns</p>\n",
       "</div>"
      ],
      "text/plain": [
       "             Id      v2a1  hacdor  rooms  hacapo  v14a  refrig  v18q  v18q1  \\\n",
       "0  ID_2f6873615       NaN       0      5       0     1       1     0    NaN   \n",
       "1  ID_1c78846d2       NaN       0      5       0     1       1     0    NaN   \n",
       "2  ID_e5442cf6a       NaN       0      5       0     1       1     0    NaN   \n",
       "3  ID_a8db26a79       NaN       0     14       0     1       1     1    1.0   \n",
       "4  ID_a62966799  175000.0       0      4       0     1       1     1    1.0   \n",
       "\n",
       "   r4h1  ...    age  SQBescolari  SQBage  SQBhogar_total  SQBedjefe  \\\n",
       "0     1  ...      4            0      16               9          0   \n",
       "1     1  ...     41          256    1681               9          0   \n",
       "2     1  ...     41          289    1681               9          0   \n",
       "3     0  ...     59          256    3481               1        256   \n",
       "4     0  ...     18          121     324               1          0   \n",
       "\n",
       "   SQBhogar_nin  SQBovercrowding  SQBdependency  SQBmeaned  agesq  \n",
       "0             1             2.25           0.25     272.25     16  \n",
       "1             1             2.25           0.25     272.25   1681  \n",
       "2             1             2.25           0.25     272.25   1681  \n",
       "3             0             1.00           0.00     256.00   3481  \n",
       "4             1             0.25          64.00        NaN    324  \n",
       "\n",
       "[5 rows x 142 columns]"
      ]
     },
     "execution_count": 386,
     "metadata": {},
     "output_type": "execute_result"
    }
   ],
   "source": [
    "test_df.head()"
   ]
  },
  {
   "cell_type": "code",
   "execution_count": 387,
   "metadata": {
    "_uuid": "53d11f87ce65de234e07415925f562dbc9e29b8c"
   },
   "outputs": [
    {
     "name": "stdout",
     "output_type": "stream",
     "text": [
      "    column name  missing values count\n",
      "1          v2a1                 17403\n",
      "8         v18q1                 18126\n",
      "21      rez_esc                 19653\n",
      "103    meaneduc                    31\n",
      "140   SQBmeaned                    31\n"
     ]
    }
   ],
   "source": [
    "print_missing_values(test_df)\n",
    "# handling missing values\n",
    "from sklearn.preprocessing import Imputer\n",
    "imputer=Imputer(missing_values='NaN',strategy='mean',axis=0)\n",
    "test_df.iloc[:,103:104]=imputer.fit_transform(test_df.iloc[:,103:104])\n",
    "test_df.iloc[:,140:141]=imputer.fit_transform(test_df.iloc[:,140:141])\n",
    "test_df['v2a1'].fillna(0, inplace = True)\n",
    "test_df['v18q1'].fillna(0, inplace = True)\n",
    "test_df = test_df.drop('rez_esc', axis = 1)"
   ]
  },
  {
   "cell_type": "code",
   "execution_count": 388,
   "metadata": {
    "_uuid": "38a92a7c352adbbc6c27d436a47d98b865d44b2c"
   },
   "outputs": [],
   "source": [
    "# drop colums with constant values\n",
    "test_df= test_df.drop(['elimbasu5'],axis=1)\n"
   ]
  },
  {
   "cell_type": "code",
   "execution_count": 389,
   "metadata": {
    "_uuid": "b09b2dd3c7a4bd495b568b46756ce3d1ad5f0d6b"
   },
   "outputs": [],
   "source": [
    "#handle the non numeric values\n",
    "\n",
    "test_df=test_df.replace('no','0')\n",
    "test_df=test_df.replace('yes','1')"
   ]
  },
  {
   "cell_type": "code",
   "execution_count": 390,
   "metadata": {
    "_uuid": "7eeb5ab1e3ca4f2e4698c7000ea81eaa51bb6b98"
   },
   "outputs": [],
   "source": [
    "# drop the idhogar\n",
    "test_df.drop(['idhogar'], axis = 1, inplace = True)\n"
   ]
  },
  {
   "cell_type": "code",
   "execution_count": 391,
   "metadata": {
    "_uuid": "d2161375a8fdc389239b3497cb0597796052e690"
   },
   "outputs": [],
   "source": [
    "# drop the id\n",
    "test_df.drop(['Id'], axis = 1, inplace = True)\n"
   ]
  },
  {
   "cell_type": "code",
   "execution_count": 392,
   "metadata": {
    "_uuid": "a8127cbd76a772ec77d35d43c75544d81978582b"
   },
   "outputs": [],
   "source": [
    "#feature scalling\n",
    "from sklearn.preprocessing import StandardScaler\n",
    "\n",
    "sc = StandardScaler()  \n",
    "x = sc.fit_transform(x) \n",
    "test_df= sc.fit_transform(test_df)  \n"
   ]
  },
  {
   "cell_type": "code",
   "execution_count": 393,
   "metadata": {
    "_uuid": "01785f9f3766d138b42bd3cf910b1dce9cc72701"
   },
   "outputs": [
    {
     "data": {
      "text/plain": [
       "(9557, 138)"
      ]
     },
     "execution_count": 393,
     "metadata": {},
     "output_type": "execute_result"
    }
   ],
   "source": [
    "x"
   ]
  },
  {
   "cell_type": "code",
   "execution_count": 394,
   "metadata": {
    "_uuid": "f4ffcffc9be091d5674702bbf6a713301953eaae"
   },
   "outputs": [],
   "source": [
    "# A random forest is a meta estimator that fits a number of decision tree classifiers on various sub-samples of the dataset and uses averaging to improve the predictive accuracy and control over-fitting.\n",
    "# The sub-sample size is always the same as the original input sample size but the samples are drawn with replacement if bootstrap=True (default).\n",
    "from sklearn.ensemble import RandomForestClassifier\n",
    "\n",
    "from sklearn.ensemble import RandomForestClassifier\n",
    "classifier = RandomForestClassifier()\n",
    "classifier.fit(x, y)\n",
    "target_pred=classifier.predict(test_df)\n"
   ]
  },
  {
   "cell_type": "code",
   "execution_count": 395,
   "metadata": {
    "_uuid": "07da5bf9483af78232262a12f8c9daac8681922a"
   },
   "outputs": [],
   "source": [
    "sub=pd.DataFrame()\n",
    "sub['Id']=org_test['Id']\n",
    "sub['Target']=target_pred\n",
    "sub.to_csv('submission.csv',index=False)"
   ]
  },
  {
   "cell_type": "code",
   "execution_count": 396,
   "metadata": {
    "_uuid": "1f2e999564c8f4aa3898519d4af48de2fa9f1485"
   },
   "outputs": [
    {
     "data": {
      "text/plain": [
       "23856"
      ]
     },
     "execution_count": 396,
     "metadata": {},
     "output_type": "execute_result"
    }
   ],
   "source": [
    "target_pred.size "
   ]
  },
  {
   "cell_type": "code",
   "execution_count": null,
   "metadata": {
    "_uuid": "ca7a45f9ccaa2423d65120f7f8ac861bdc3e0cfb"
   },
   "outputs": [],
   "source": []
  },
  {
   "cell_type": "code",
   "execution_count": null,
   "metadata": {
    "_uuid": "bb5bf4e12720d48cc7bd06dbc93bb2b6c988f794"
   },
   "outputs": [],
   "source": []
  }
 ],
 "metadata": {
  "kernelspec": {
   "display_name": "Python 3",
   "language": "python",
   "name": "python3"
  },
  "language_info": {
   "codemirror_mode": {
    "name": "ipython",
    "version": 3
   },
   "file_extension": ".py",
   "mimetype": "text/x-python",
   "name": "python",
   "nbconvert_exporter": "python",
   "pygments_lexer": "ipython3",
   "version": "3.6.4"
  }
 },
 "nbformat": 4,
 "nbformat_minor": 1
}
